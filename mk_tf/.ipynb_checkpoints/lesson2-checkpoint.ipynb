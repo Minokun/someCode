{
 "cells": [
  {
   "cell_type": "code",
   "execution_count": 1,
   "metadata": {},
   "outputs": [],
   "source": [
    "import matplotlib as mpl\n",
    "import matplotlib.pyplot as plt\n",
    "%matplotlib inline\n",
    "import numpy as np\n",
    "import pandas as pd\n",
    "import sklearn\n",
    "import tensorflow as tf\n",
    "from tensorflow import keras\n",
    "from sklearn.model_selection import train_test_split\n",
    "import os\n",
    "import pickle as pk\n",
    "from sklearn.preprocessing import StandardScaler"
   ]
  },
  {
   "cell_type": "code",
   "execution_count": 61,
   "metadata": {},
   "outputs": [],
   "source": [
    "# 获取训练数据\n",
    "with open('./x_train_all.pk', 'rb') as fp: user_behavior_data = np.array(pk.load(fp))\n",
    "with open('./y_train_all_31.pk', 'rb') as fp: user_behavior_target = np.array(pk.load(fp))\n",
    "# 分割数据\n",
    "x_train_all, x_test, y_train_all, y_test = train_test_split(\n",
    "    user_behavior_data, user_behavior_target, random_state = 7\n",
    ")\n",
    "x_train, x_valid, y_train, y_valid = train_test_split(\n",
    "    x_train_all, y_train_all, random_state = 11\n",
    ")"
   ]
  },
  {
   "cell_type": "code",
   "execution_count": 62,
   "metadata": {},
   "outputs": [],
   "source": [
    "# 归一化\n",
    "scaler = StandardScaler()\n",
    "x_train_scaled = scaler.fit_transform(x_train)\n",
    "x_valid_scaled = scaler.transform(x_valid)\n",
    "x_test_scaled =  scaler.transform(x_test)"
   ]
  },
  {
   "cell_type": "code",
   "execution_count": 87,
   "metadata": {},
   "outputs": [],
   "source": [
    "# 三层网络\n",
    "model = keras.models.Sequential([\n",
    "    keras.layers.Dense(300, activation='relu', input_shape=x_train_scaled.shape[1:]),\n",
    "    keras.layers.Dense(100, activation='relu'),\n",
    "    keras.layers.Dense(2, activation='softmax')\n",
    "])\n",
    "model.compile(loss='sparse_categorical_crossentropy',\n",
    "              optimizer = 'sgd',\n",
    "              metrics = ['accuracy']\n",
    "             )"
   ]
  },
  {
   "cell_type": "code",
   "execution_count": 91,
   "metadata": {},
   "outputs": [],
   "source": [
    "# 深度神经网络建立\n",
    "model = keras.models.Sequential()\n",
    "\n",
    "model.add(keras.layers.Dense(124, input_shape=x_train_scaled.shape[1:]))\n",
    "for i in range(10):\n",
    "    model.add(keras.layers.Dense(124, activation='relu'))\n",
    "#     if i % 5 == 1:\n",
    "#         model.add(keras.layers.AlphaDropout(rate=0.5))  \n",
    "model.add(keras.layers.Dense(2, activation='softmax'))\n",
    "    \n",
    "model.compile(loss='sparse_categorical_crossentropy',\n",
    "              optimizer = 'sgd',\n",
    "              metrics = ['accuracy']\n",
    "             )"
   ]
  },
  {
   "cell_type": "code",
   "execution_count": 92,
   "metadata": {},
   "outputs": [
    {
     "name": "stdout",
     "output_type": "stream",
     "text": [
      "Train on 88224 samples, validate on 29408 samples\n",
      "Epoch 1/100\n",
      "88224/88224 [==============================] - 6s 66us/sample - loss: 0.4984 - accuracy: 0.7518 - val_loss: 0.4081 - val_accuracy: 0.8075\n",
      "Epoch 2/100\n",
      "88224/88224 [==============================] - 5s 60us/sample - loss: 0.4033 - accuracy: 0.8102 - val_loss: 0.3911 - val_accuracy: 0.8147\n",
      "Epoch 3/100\n",
      "88224/88224 [==============================] - 6s 67us/sample - loss: 0.3931 - accuracy: 0.8152 - val_loss: 0.3855 - val_accuracy: 0.8185\n",
      "Epoch 4/100\n",
      "88224/88224 [==============================] - 6s 69us/sample - loss: 0.3881 - accuracy: 0.8181 - val_loss: 0.3895 - val_accuracy: 0.8159\n",
      "Epoch 5/100\n",
      "88224/88224 [==============================] - 6s 66us/sample - loss: 0.3850 - accuracy: 0.8189 - val_loss: 0.3972 - val_accuracy: 0.8011\n",
      "Epoch 6/100\n",
      "88224/88224 [==============================] - 6s 66us/sample - loss: 0.3824 - accuracy: 0.8198 - val_loss: 0.3762 - val_accuracy: 0.8231\n",
      "Epoch 7/100\n",
      "88224/88224 [==============================] - 6s 67us/sample - loss: 0.3806 - accuracy: 0.8216 - val_loss: 0.3786 - val_accuracy: 0.8216\n",
      "Epoch 8/100\n",
      "88224/88224 [==============================] - 6s 69us/sample - loss: 0.3787 - accuracy: 0.8220 - val_loss: 0.3768 - val_accuracy: 0.8233\n",
      "Epoch 9/100\n",
      "88224/88224 [==============================] - 6s 67us/sample - loss: 0.3772 - accuracy: 0.8228 - val_loss: 0.3845 - val_accuracy: 0.8196\n",
      "Epoch 10/100\n",
      "88224/88224 [==============================] - 6s 67us/sample - loss: 0.3761 - accuracy: 0.8232 - val_loss: 0.3738 - val_accuracy: 0.8238\n",
      "Epoch 11/100\n",
      "88224/88224 [==============================] - 6s 67us/sample - loss: 0.3742 - accuracy: 0.8240 - val_loss: 0.3753 - val_accuracy: 0.8235\n",
      "Epoch 12/100\n",
      "88224/88224 [==============================] - 6s 66us/sample - loss: 0.3740 - accuracy: 0.8245 - val_loss: 0.3759 - val_accuracy: 0.8226\n",
      "Epoch 13/100\n",
      "88224/88224 [==============================] - 6s 66us/sample - loss: 0.3721 - accuracy: 0.8249 - val_loss: 0.3668 - val_accuracy: 0.8284\n",
      "Epoch 14/100\n",
      "88224/88224 [==============================] - 6s 66us/sample - loss: 0.3712 - accuracy: 0.8263 - val_loss: 0.3677 - val_accuracy: 0.8279\n",
      "Epoch 15/100\n",
      "88224/88224 [==============================] - 6s 66us/sample - loss: 0.3708 - accuracy: 0.8254 - val_loss: 0.3793 - val_accuracy: 0.8201\n",
      "Epoch 16/100\n",
      "88224/88224 [==============================] - 6s 67us/sample - loss: 0.3695 - accuracy: 0.8267 - val_loss: 0.3735 - val_accuracy: 0.8246\n",
      "Epoch 17/100\n",
      "88224/88224 [==============================] - 6s 66us/sample - loss: 0.3684 - accuracy: 0.8274 - val_loss: 0.3738 - val_accuracy: 0.8251\n",
      "Epoch 18/100\n",
      "88224/88224 [==============================] - 6s 66us/sample - loss: 0.3682 - accuracy: 0.8279 - val_loss: 0.3695 - val_accuracy: 0.8256\n"
     ]
    }
   ],
   "source": [
    "# 训练数据\n",
    "logdir = '.\\callbacks'\n",
    "if not os.path.exists(logdir):\n",
    "    os.mkdir(logdir)\n",
    "output_model_file = os.path.join(logdir, 'loss_user_mnist.h5')\n",
    "\n",
    "callbacks = [\n",
    "    keras.callbacks.TensorBoard(logdir),\n",
    "    keras.callbacks.ModelCheckpoint(output_model_file, save_best_only = True),\n",
    "    keras.callbacks.EarlyStopping(patience=5, min_delta=1e-3),\n",
    "]\n",
    "history = model.fit(x_train_scaled, y_train, epochs=100, \n",
    "                    validation_data=(x_valid_scaled, y_valid),\n",
    "                   callbacks=callbacks)"
   ]
  },
  {
   "cell_type": "code",
   "execution_count": 93,
   "metadata": {},
   "outputs": [
    {
     "data": {
      "image/png": "[encoded data removed]",
      "text/plain": [
       "<Figure size 1152x576 with 1 Axes>"
      ]
     },
     "metadata": {
      "needs_background": "light"
     },
     "output_type": "display_data"
    }
   ],
   "source": [
    "def plot_learning_curves(history):\n",
    "    pd.DataFrame(history.history).plot(figsize=(16, 8))\n",
    "    plt.grid(True)\n",
    "    plt.gca().set_ylim(0, 1)\n",
    "    plt.show()\n",
    "plot_learning_curves(history)"
   ]
  }
 ],
 "metadata": {
  "kernelspec": {
   "display_name": "Python 3",
   "language": "python",
   "name": "python3"
  },
  "language_info": {
   "codemirror_mode": {
    "name": "ipython",
    "version": 3
   },
   "file_extension": ".py",
   "mimetype": "text/x-python",
   "name": "python",
   "nbconvert_exporter": "python",
   "pygments_lexer": "ipython3",
   "version": "3.6.5"
  }
 },
 "nbformat": 4,
 "nbformat_minor": 2
}
