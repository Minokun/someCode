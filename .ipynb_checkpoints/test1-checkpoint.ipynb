{
 "cells": [
  {
   "cell_type": "code",
   "execution_count": 11,
   "metadata": {},
   "outputs": [],
   "source": [
    "from sqlalchemy import create_engine\n",
    "\n",
    "mysql_setting = {\n",
    "    'host' : \"localhost\",\n",
    "    'dbname': \"spider\",\n",
    "    'user': \"root\",\n",
    "    'password': \"\"\n",
    "}\n",
    "\n",
    "def database_exec(sql_str):\n",
    "    engine = create_engine('mysql://{user}:{password}@{host}:3306/{dbname}'.format(**mysql_setting), echo=False)\n",
    "    conn = engine.connect()\n",
    "    res = conn.execute(sql_str)\n",
    "    res_arr = res.fetchall()\n",
    "    conn.close()\n",
    "    res_deal = []\n",
    "    res = []\n",
    "    for item in res_arr:\n",
    "        for i in range(len(item)):\n",
    "            res_deal.append(item[i])\n",
    "        res.append(res_deal)\n",
    "        res_deal = []\n",
    "    return res\n",
    "\n",
    "sql_51job = '''\n",
    "    SELECT industry,position_labels FROM spider.51job_position \n",
    "'''\n",
    "res_51job = database_exec(sql_51job)"
   ]
  },
  {
   "cell_type": "code",
   "execution_count": 14,
   "metadata": {},
   "outputs": [
    {
     "data": {
      "text/plain": [
       "2689539"
      ]
     },
     "execution_count": 14,
     "metadata": {},
     "output_type": "execute_result"
    }
   ],
   "source": [
    "len(res_51job)"
   ]
  },
  {
   "cell_type": "code",
   "execution_count": 112,
   "metadata": {},
   "outputs": [],
   "source": [
    "import pandas as pd\n",
    "\n",
    "data = pd.DataFrame(res_51job, columns = ['industry', 'position_labels'])\n",
    "patten = r'互联网'\n",
    "data = data[(True ^ data.industry.isin(['1000-5000人','5000-10000人','500-1000人','少于50人','150-500人','50-150人']))]\n",
    "data_sort = data.groupby('industry').size().sort_values()\n",
    "res = data_sort[len(data_sort) - 100 : len(data_sort)]"
   ]
  },
  {
   "cell_type": "code",
   "execution_count": 113,
   "metadata": {},
   "outputs": [
    {
     "data": {
      "text/plain": [
       "'{\"电气工程及其自动化 自动化\":7,\"给排水科学与工程\":8,\"物流管理 市场营销\":8,\"会计学 财务管理\":12,\"电气工程及其自动化 热能与动力工程\":15,\"机械设计制造及其自动化 机械电子工程\\\\/机电一体化\":15,\"水利水电工程 给排水科学与工程\":16,\"电子信息工程 软件工程\":16,\"环境工程 园林\":16,\"新闻学\":16,\"财政金融 工程造价管理\":16,\"工程造价管理 工业与民用建筑\":16,\"行政管理\":16,\"计算机工程 软件工程\":16,\"市场营销 环境工程\":17,\"金融学 经济学\":17,\"热能与动力工程 给排水科学与工程\":17,\"新闻学 广告学\":17,\"电气工程及其自动化 电力系统及自动化\":18,\"图书馆学和档案学\":18,\"安全工程\":18,\"环境工程 市场营销\":18,\"市场营销 工商管理\":18,\"会计学 工商管理\":18,\"审计学 会计学\":19,\"会计学\":19,\"法学 经济法\":19,\"工程造价管理\":20,\"艺术设计\":20,\"人力资源管理\":20,\"热能与动力工程\":22,\"计算机科学与技术 软件工程\":24,\"物流管理 交通运输\":24,\"市场营销\":32,\"环境工程 环境科学\":35,\"机械设计制造及其自动化\":38,\"计算机科学与技术\":45,\"环境工程 给排水科学与工程\":56,\"计算机工程\":65,\"环境工程\":66,\"采掘业\\\\/冶炼\":1166,\"非盈利机构\":1538,\"政府\\\\/公共事业\":2593,\"信托\\\\/担保\\\\/拍卖\\\\/典当\":2903,\"学术\\\\/科研\":3458,\"会计\\\\/审计\":4003,\"租赁服务\":4065,\"航天\\\\/航空\":4107,\"文字媒体\\\\/出版\":4454,\"办公用品及设备\":4887,\"法律\":6219,\"外包服务\":6727,\"生活服务\":7425,\"公关\\\\/市场推广\\\\/会展\":8655,\"计算机硬件\":9004,\"检测，认证\":9835,\"印刷\\\\/包装\\\\/造纸\":12054,\"奢侈品\\\\/收藏品\\\\/工艺品\\\\/珠宝\":12262,\"美容\\\\/保健\":12337,\"网络游戏\":12597,\"娱乐\\\\/休闲\\\\/体育\":13421,\"电气\\\\/电力\\\\/水利\":13823,\"银行\":14208,\"农\\\\/林\\\\/牧\\\\/渔\":15879,\"通信\\\\/电信运营、增值服务\":19113,\"广告\":21000,\"新能源\":21389,\"石油\\\\/化工\\\\/矿产\\\\/地质\":22536,\"中介服务\":22584,\"原材料和加工\":24672,\"环保\":25586,\"酒店\\\\/旅游\":27416,\"计算机服务(系统、数据服务、维修)\":27741,\"餐饮业\":29976,\"物业管理\\\\/商业中心\":33387,\"家具\\\\/家电\\\\/玩具\\\\/礼品\":33409,\"交通\\\\/运输\\\\/物流\":37495,\"通信\\\\/电信\\\\/网络设备\":37611,\"仪器仪表\\\\/工业自动化\":37771,\"医疗\\\\/护理\\\\/卫生\":38505,\"影视\\\\/媒体\\\\/艺术\\\\/文化传播\":40691,\"医疗设备\\\\/器械\":42281,\"多元化业务集团公司\":44426,\"保险\":48456,\"家居\\\\/室内设计\\\\/装潢\":48682,\"服装\\\\/纺织\\\\/皮革\":58683,\"批发\\\\/零售\":61835,\"贸易\\\\/进出口\":80282,\"制药\\\\/生物工程\":86941,\"汽车及零配件\":91056,\"专业服务(咨询、人力资源、财会)\":93318,\"电子技术\\\\/半导体\\\\/集成电路\":99321,\"机械\\\\/设备\\\\/重工\":100166,\"建筑\\\\/建材\\\\/工程\":102202,\"快速消费品(食品、饮料、化妆品)\":108656,\"计算机软件\":145922,\"金融\\\\/投资\\\\/证券\":165199,\"教育\\\\/培训\\\\/院校\":172304,\"房地产\":182004,\"互联网\\\\/电子商务\":267611}'"
      ]
     },
     "execution_count": 113,
     "metadata": {},
     "output_type": "execute_result"
    }
   ],
   "source": [
    "res.to_json(orient='index', force_ascii=False)"
   ]
  },
  {
   "cell_type": "raw",
   "metadata": {},
   "source": []
  }
 ],
 "metadata": {
  "kernelspec": {
   "display_name": "Python 3",
   "language": "python",
   "name": "python3"
  },
  "language_info": {
   "codemirror_mode": {
    "name": "ipython",
    "version": 3
   },
   "file_extension": ".py",
   "mimetype": "text/x-python",
   "name": "python",
   "nbconvert_exporter": "python",
   "pygments_lexer": "ipython3",
   "version": "3.6.1"
  }
 },
 "nbformat": 4,
 "nbformat_minor": 2
}
