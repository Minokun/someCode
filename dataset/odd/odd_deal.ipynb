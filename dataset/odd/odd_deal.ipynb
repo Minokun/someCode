{
 "cells": [
  {
   "cell_type": "code",
   "execution_count": 80,
   "metadata": {
    "scrolled": false
   },
   "outputs": [],
   "source": [
    "import numpy as np \n",
    "import pandas as pd\n",
    "import os\n",
    "\n",
    "# 获取当前文件夹下的所有合同文件\n",
    "def getCurrentFiles():\n",
    "    odd_file_list = []\n",
    "    for root, dirs, files in os.walk(\".\"):\n",
    "        if '客户购销合同' in root:\n",
    "            for name in files:\n",
    "                if os.path.splitext(name)[1] in (['.xls', '.xlsx']):\n",
    "                    odd_file_list.append(os.path.join(root, name))\n",
    "    return odd_file_list\n",
    "\n",
    "# 处理所有合同文件\n",
    "def oddDeal():\n",
    "    odd_file_list = getCurrentFiles()\n",
    "    list_df = []\n",
    "    for item in odd_file_list:\n",
    "        # 读取文件\n",
    "        df = pd.read_excel(item).fillna('--')\n",
    "        # 获取合同单号和制单时间\n",
    "        odd_company_name = list(df[df['购销合同'].astype(str).str.contains('需方')].T.iloc[1].values)\n",
    "        odd_numbers = list(df[df.values == '合同单号：'].T.values[-1])\n",
    "        odd_date =list(df[df.values == '制单时间：'].T.values[-1])\n",
    "        # 获取订单部分\n",
    "        dict_columns = dict(zip(list(df.columns), list(df[df['购销合同'] == '序 号'].values[0])))\n",
    "        df_deal_1 = df[df[df['购销合同'] == '序 号'].index[0] + 1: df[df['购销合同'] == '合计：'].index[0]].rename(columns=dict_columns).reset_index()\n",
    "        # 合同单号,和制单时间的series\n",
    "        odd_company_name_series = pd.Series(len(df_deal_1) * odd_company_name)\n",
    "        odd_numbers_series = pd.Series(len(df_deal_1) * odd_numbers)\n",
    "        odd_date_series = pd.Series(len(df_deal_1) * odd_date)\n",
    "        res_df = pd.concat([df_deal_1, odd_numbers_series, odd_date_series, odd_company_name_series], axis=1).rename(columns={0: '合同单号', 1: '制单时间', 2: '公司名称'})\n",
    "        list_df.append(res_df)\n",
    "    res_df = pd.concat(list_df)\n",
    "    return res_df.set_index('index')\n",
    "\n",
    "res_df = oddDeal()\n",
    "res_df.to_excel('/Users/monstar/Desktop/res.xlsx', index=False)"
   ]
  }
 ],
 "metadata": {
  "kernelspec": {
   "display_name": "Python 3",
   "language": "python",
   "name": "python3"
  },
  "language_info": {
   "codemirror_mode": {
    "name": "ipython",
    "version": 3
   },
   "file_extension": ".py",
   "mimetype": "text/x-python",
   "name": "python",
   "nbconvert_exporter": "python",
   "pygments_lexer": "ipython3",
   "version": "3.6.1"
  }
 },
 "nbformat": 4,
 "nbformat_minor": 2
}
