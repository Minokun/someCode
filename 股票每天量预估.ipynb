{
 "cells": [
  {
   "cell_type": "markdown",
   "metadata": {},
   "source": [
    "### 数据准备"
   ]
  },
  {
   "cell_type": "code",
   "execution_count": 2,
   "metadata": {},
   "outputs": [],
   "source": [
    "import tushare as ts\n",
    "from datetime import date, timedelta, datetime\n",
    "import pandas as pd\n",
    "import numpy as np\n",
    "\n",
    "ts.set_token('5f74ec7e9d0e71e8b8174fc48550635013e084a53d63af4cac832ab3')\n",
    "pro = ts.pro_api()\n",
    "\n",
    "stock = '002547'\n",
    "start_date = '20190201'\n",
    "end_date = (date.today() - timedelta(days=1)).strftime('%Y%m%d')\n",
    "\n",
    "# 获取该股票的所有分时数据\n",
    "def getTickData(tick_date, stock):\n",
    "    df = ts.get_tick_data(stock, date=tick_date,src='tt')\n",
    "    df['day_date'] = tick_date\n",
    "    return df\n",
    "\n",
    "# 获取所有交易日期\n",
    "df_date = pro.trade_cal(exchange='', start_date=start_date, end_date=end_date)\n",
    "date_list = df_date[df_date['is_open'] == 1].cal_date.values"
   ]
  },
  {
   "cell_type": "code",
   "execution_count": 17,
   "metadata": {},
   "outputs": [
    {
     "name": "stdout",
     "output_type": "stream",
     "text": [
      "10/203\n",
      "20/203\n",
      "30/203\n",
      "40/203\n",
      "50/203\n",
      "60/203\n",
      "70/203\n",
      "80/203\n",
      "90/203\n",
      "100/203\n",
      "110/203\n",
      "120/203\n",
      "130/203\n",
      "140/203\n",
      "150/203\n",
      "160/203\n",
      "170/203\n",
      "180/203\n",
      "190/203\n",
      "200/203\n"
     ]
    }
   ],
   "source": [
    "# 获取所有日期的分时数据\n",
    "total_num = len(date_list)\n",
    "n = 1\n",
    "df_list = []\n",
    "for i in date_list:\n",
    "    if n % 10 == 0:\n",
    "        print(str(n) + '/' + str(total_num))\n",
    "    # 转化日期格式\n",
    "    stock_date = datetime.strptime(i, '%Y%m%d').strftime('%Y-%m-%d')\n",
    "    # 9:40 增量 9:50 增量 10:00 增量\n",
    "    df = getTickData(stock_date, stock)\n",
    "    df_list.append(df)\n",
    "    n += 1"
   ]
  },
  {
   "cell_type": "code",
   "execution_count": 18,
   "metadata": {},
   "outputs": [],
   "source": [
    "df_res = pd.concat(df_list, axis=0)\n",
    "df_res.to_csv('./stock_tick.csv', encoding='utf-8-sig')"
   ]
  },
  {
   "cell_type": "code",
   "execution_count": 3,
   "metadata": {},
   "outputs": [],
   "source": [
    "# 从csv中获取分时数据\n",
    "df_res = pd.read_csv('./stock_tick.csv')\n",
    "df_res.drop(columns=['Unnamed: 0'], axis=1, inplace=True)\n",
    "\n",
    "def getLastTradeDate(day_date, n):\n",
    "    #获取上一个交易日日期\n",
    "    index = list(date_list).index(day_date.replace('-', '')) + n\n",
    "    if index > (len(date_list) - 1):\n",
    "        return ''\n",
    "    else:\n",
    "        return datetime.strptime(date_list[index], '%Y%m%d').strftime('%Y-%m-%d')"
   ]
  },
  {
   "cell_type": "code",
   "execution_count": 4,
   "metadata": {},
   "outputs": [],
   "source": [
    "# 9点半之前增量\n",
    "df1 = df_res[df_res['time'] < '09:30:00'].groupby('day_date').agg({'volume': 'sum'}).rename(columns={'volume': 'bid'})\n",
    "# 9:30 - 9:40\n",
    "df2 = df_res[(df_res['time'] < '09:40:00') & (df_res['time'] >= '09:30:00')].groupby('day_date').agg({'volume': 'sum'}).rename(columns={'volume': 'm10'})\n",
    "# 9:40 - 9:50\n",
    "df3 = df_res[(df_res['time'] < '09:50:00') & (df_res['time'] >= '09:40:00')].groupby('day_date').agg({'volume': 'sum'}).rename(columns={'volume': 'm20'})\n",
    "# 9:50 - 10:00\n",
    "df4 = df_res[(df_res['time'] < '10:00:00')  & (df_res['time'] >= '09:50:00')].groupby('day_date').agg({'volume': 'sum'}).rename(columns={'volume': 'm30'})\n",
    "# 10点总量\n",
    "df5 = df_res[df_res['time'] < '10:00:00'].groupby('day_date').agg({'volume': 'sum'}).rename(columns={'volume': 'b10'})\n",
    "\n",
    "# 昨天总量\n",
    "df6 = df_res.groupby('day_date').agg({'volume': 'sum'}).rename(columns={'volume': 'total'}).reset_index()\n",
    "df_yesterday_total = pd.concat([df6['day_date'].apply(getLastTradeDate, args=(1,)), df6.total], axis=1).set_index('day_date').rename(columns={'total': 'yesterday_total'})\n",
    "dyt = df_yesterday_total[df_yesterday_total.index != '']\n",
    "# 昨天10点前的增量\n",
    "df7 = df_res[df_res['time'] < '10:00:00'].groupby('day_date').agg({'volume': 'sum'}).rename(columns={'volume': 'total'}).reset_index()\n",
    "df_yesterday_b10 = pd.concat([df7['day_date'].apply(getLastTradeDate, args=(1,)), df7.total], axis=1).set_index('day_date').rename(columns={'total': 'yesterday_b10'})\n",
    "dyb10 = df_yesterday_b10[df_yesterday_b10.index != '']\n",
    "# 前天总量\n",
    "df8 = df_res.groupby('day_date').agg({'volume': 'sum'}).rename(columns={'volume': 'total'}).reset_index()\n",
    "df_tdby_total = pd.concat([df8['day_date'].apply(getLastTradeDate, args=(2,)), df8.total], axis=1).set_index('day_date').rename(columns={'total': 'tdby_total'})\n",
    "dtt = df_tdby_total[df_tdby_total.index != '']\n",
    "# 前天10点半前的增量\n",
    "df9 = df_res[df_res['time'] < '10:00:00'].groupby('day_date').agg({'volume': 'sum'}).rename(columns={'volume': 'total'}).reset_index()\n",
    "df_tdby_b10 = pd.concat([df9['day_date'].apply(getLastTradeDate, args=(2,)), df9.total], axis=1).set_index('day_date').rename(columns={'total': 'tdby_b10'})\n",
    "dtb10 = df_tdby_b10[df_tdby_b10.index != '']"
   ]
  },
  {
   "cell_type": "code",
   "execution_count": 5,
   "metadata": {},
   "outputs": [],
   "source": [
    "# 组装x\n",
    "df_11 = df1.join(df2).join(df3).join(df4).join(df5).join(dyt).join(dyb10).join(dtt).join(dtb10)\n",
    "df_x = df_11[df_11.index > '2019-02-11']\n",
    "data_x_list = []\n",
    "for i in df_x.index:\n",
    "    data_x_list.append(list(df_x.loc[i].values))\n",
    "#     data_x_list.append([df_x.loc[i].b10, df_x.loc[i].yesterday_total])\n",
    "data_x = np.array(data_x_list)\n",
    "# 组装y\n",
    "df_y = df_res[df_res['day_date'] > '2019-02-11'].groupby('day_date').agg({'volume': 'sum'}).rename(columns={'volume': 'total'})\n",
    "data_y = df_y.total.values / 10000"
   ]
  },
  {
   "cell_type": "markdown",
   "metadata": {},
   "source": [
    "### 机器学习模型建立"
   ]
  },
  {
   "cell_type": "code",
   "execution_count": 6,
   "metadata": {},
   "outputs": [],
   "source": [
    "import matplotlib as mpl\n",
    "import matplotlib.pyplot as plt\n",
    "import sklearn\n",
    "import os\n",
    "import sys\n",
    "import tensorflow as tf\n",
    "from sklearn.model_selection import train_test_split\n",
    "from sklearn.preprocessing import StandardScaler\n",
    "\n",
    "plt.rcParams['font.sans-serif'] = ['KaiTi']\n",
    "plt.rcParams['axes.unicode_minus'] = False"
   ]
  },
  {
   "cell_type": "code",
   "execution_count": 7,
   "metadata": {},
   "outputs": [],
   "source": [
    "# 数据切分\n",
    "x_train_all, x_test, y_train_all, y_test = train_test_split(\n",
    "    data_x, data_y, random_state=7, test_size=0.1\n",
    ")\n",
    "x_train, x_valid, y_train, y_valid = train_test_split(\n",
    "    x_train_all, y_train_all\n",
    ")\n",
    "\n",
    "# 数据归一化\n",
    "scaler = StandardScaler()\n",
    "x_train_scaler = scaler.fit_transform(x_train)\n",
    "x_valid_scaler = scaler.transform(x_valid)\n",
    "x_test_scaler = scaler.transform(x_test)"
   ]
  },
  {
   "cell_type": "code",
   "execution_count": 20,
   "metadata": {
    "scrolled": false
   },
   "outputs": [
    {
     "name": "stdout",
     "output_type": "stream",
     "text": [
      "Train on 135 samples, validate on 46 samples\n",
      "Epoch 1/100\n",
      "135/135 [==============================] - 1s 8ms/sample - loss: 6535969454.8764 - val_loss: 14288.9245\n",
      "Epoch 2/100\n",
      "135/135 [==============================] - 0s 852us/sample - loss: 15335.1267 - val_loss: 14288.9245\n",
      "Epoch 3/100\n",
      "135/135 [==============================] - 0s 845us/sample - loss: 15335.1272 - val_loss: 14288.9245\n",
      "Epoch 4/100\n",
      "135/135 [==============================] - 0s 852us/sample - loss: 15335.1266 - val_loss: 14288.9245\n",
      "Epoch 5/100\n",
      "135/135 [==============================] - 0s 849us/sample - loss: 15335.1269 - val_loss: 14288.9245\n",
      "Epoch 6/100\n",
      "135/135 [==============================] - 0s 852us/sample - loss: 15335.1272 - val_loss: 14288.9245\n"
     ]
    }
   ],
   "source": [
    "# 建立模型 \n",
    "model = tf.keras.models.Sequential([\n",
    "    tf.keras.layers.Dense(30, activation='selu', input_shape=x_train_scaler.shape[1:]),\n",
    "    tf.keras.layers.Dense(1, activation='selu'),\n",
    "])\n",
    "# 编译模型sparse_categorical_crossentropy\n",
    "model.compile(loss='mean_squared_error',\n",
    "              optimizer = 'sgd'\n",
    "             )\n",
    "# 设置回调函数\n",
    "logdir = '.\\\\callbacks'\n",
    "\n",
    "if not os.path.exists(logdir):\n",
    "    os.mkdir(logdir)\n",
    "\n",
    "output_model_file = os.path.join(logdir, 'stockVolumePredict.h5')\n",
    "\n",
    "callbacks = [\n",
    "    tf.keras.callbacks.TensorBoard(logdir),\n",
    "    tf.keras.callbacks.ModelCheckpoint(output_model_file, save_best_only = True),\n",
    "    tf.keras.callbacks.EarlyStopping(patience=5, min_delta=1e-3),\n",
    "]\n",
    "history = model.fit(x_train, y_train, epochs=100,\n",
    "                    validation_data=(x_valid, y_valid),\n",
    "                   callbacks=callbacks)"
   ]
  },
  {
   "cell_type": "code",
   "execution_count": 21,
   "metadata": {},
   "outputs": [
    {
     "data": {
      "image/png": "[encoded data removed]",
      "text/plain": [
       "<Figure size 1152x576 with 1 Axes>"
      ]
     },
     "metadata": {
      "needs_background": "light"
     },
     "output_type": "display_data"
    }
   ],
   "source": [
    "def plot_learning_curves(history):\n",
    "    pd.DataFrame(history.history).plot(figsize=(16, 8))\n",
    "    plt.grid(True)\n",
    "    # plt.gca().set_ylim(0, 1)\n",
    "    plt.show()\n",
    "plot_learning_curves(history)"
   ]
  },
  {
   "cell_type": "code",
   "execution_count": 17,
   "metadata": {},
   "outputs": [
    {
     "data": {
      "text/plain": [
       "(array([4.34000e+02, 3.78310e+04, 4.16550e+04, 2.60400e+04, 1.05960e+05,\n",
       "        4.40668e+05, 1.31662e+05, 6.91365e+05, 1.17430e+05]), 57.0869)"
      ]
     },
     "execution_count": 17,
     "metadata": {},
     "output_type": "execute_result"
    }
   ],
   "source": [
    "data_x[-1], data_y[-1]"
   ]
  },
  {
   "cell_type": "code",
   "execution_count": 26,
   "metadata": {},
   "outputs": [
    {
     "data": {
      "text/plain": [
       "array([[-1.7580993]], dtype=float32)"
      ]
     },
     "execution_count": 26,
     "metadata": {},
     "output_type": "execute_result"
    }
   ],
   "source": [
    "# model.predict([data_x[1]])\n",
    "model.predict(np.array([data_x[-1]]))"
   ]
  }
 ],
 "metadata": {
  "kernelspec": {
   "display_name": "Python 3",
   "language": "python",
   "name": "python3"
  },
  "language_info": {
   "codemirror_mode": {
    "name": "ipython",
    "version": 3
   },
   "file_extension": ".py",
   "mimetype": "text/x-python",
   "name": "python",
   "nbconvert_exporter": "python",
   "pygments_lexer": "ipython3",
   "version": "3.6.5"
  }
 },
 "nbformat": 4,
 "nbformat_minor": 2
}
