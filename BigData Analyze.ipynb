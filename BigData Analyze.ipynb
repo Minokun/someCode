{
 "cells": [
  {
   "cell_type": "code",
   "execution_count": 277,
   "metadata": {},
   "outputs": [
    {
     "data": {
      "text/plain": [
       "{'下午': 8118, '全天': 5371, '早上': 6567, '晚上': 758, '暂无': 2016}"
      ]
     },
     "execution_count": 277,
     "metadata": {},
     "output_type": "execute_result"
    }
   ],
   "source": [
    "from sqlalchemy import create_engine\n",
    "import pandas as pd\n",
    "import json\n",
    "\n",
    "mysql_setting = {\n",
    "    'host' : \"localhost\",\n",
    "    'dbname': \"spider\",\n",
    "    'user': \"root\",\n",
    "    'password': \"\"\n",
    "}\n",
    "\n",
    "def database_connect(sql_str):\n",
    "    engine = create_engine('mysql://{user}:{password}@{host}:3306/{dbname}'.format(**mysql_setting), echo=False)\n",
    "    conn = engine.connect()\n",
    "    res_sql = conn.execute(sql_str)\n",
    "    res_arr = res_sql.fetchall()\n",
    "    conn.close()\n",
    "    res_deal = []\n",
    "    res = []\n",
    "    for item in res_arr:\n",
    "        for i in range(len(item)):\n",
    "            res_deal.append(item[i])\n",
    "        res.append(res_deal)\n",
    "        res_deal = []\n",
    "    return res\n",
    "\n",
    "sql_str = '''\n",
    "    select active_time,count(*) num \n",
    "        from lagou_hr \n",
    "        where active_time <> 'NULL'and active_time <> '暂无' \n",
    "        group by active_time \n",
    "        order by num desc\n",
    "'''\n",
    "sql = '''\n",
    "    select publisher_id,active_time\n",
    "    from lagou_hr\n",
    "'''\n",
    "res = database_connect(sql)\n",
    "d = pd.DataFrame(res, columns = ['id', 'time'])\n",
    "res = d.groupby('time').size().sort_values()\n",
    "dict(res)"
   ]
  }
 ],
 "metadata": {
  "kernelspec": {
   "display_name": "Python 3",
   "language": "python",
   "name": "python3"
  },
  "language_info": {
   "codemirror_mode": {
    "name": "ipython",
    "version": 3
   },
   "file_extension": ".py",
   "mimetype": "text/x-python",
   "name": "python",
   "nbconvert_exporter": "python",
   "pygments_lexer": "ipython3",
   "version": "3.6.1"
  }
 },
 "nbformat": 4,
 "nbformat_minor": 2
}
