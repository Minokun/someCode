{
 "cells": [
  {
   "cell_type": "code",
   "execution_count": 11,
   "metadata": {},
   "outputs": [
    {
     "name": "stdout",
     "output_type": "stream",
     "text": [
      "0.7\n"
     ]
    }
   ],
   "source": [
    "import re \n",
    "salary1 = '4.5-6千/月'\n",
    "salary2 = '0.7-1.1万/月'\n",
    "salary3 = '6-8万/年'\n",
    "salary4 = '1+ /月'\n",
    "salary5 = '4+ 千/月'\n",
    "salary6 = '20+ 万/年'\n",
    "patten1 = r'([\\d]+.?[\\d]?)-([\\d]+.?[\\d]?)千/月'\n",
    "patten2 = r'([\\d]+.?[\\d]?)-([\\d]+.?[\\d]?)万/月'\n",
    "patten3 = r'([\\d]+.?[\\d]?)-([\\d]+.?[\\d]?)万/年'\n",
    "patten4 = r'([\\d]+.?[\\d]?)+ /月'\n",
    "patten5 = r'([\\d]+.?[\\d]?)+ 千/月'\n",
    "patten6 = r'([\\d]+.?[\\d]?)+ 万/年'\n",
    "result = re.compile(patten2).match(salary2)\n",
    "print(result.group(1))"
   ]
  }
 ],
 "metadata": {
  "kernelspec": {
   "display_name": "Python 3",
   "language": "python",
   "name": "python3"
  },
  "language_info": {
   "codemirror_mode": {
    "name": "ipython",
    "version": 3
   },
   "file_extension": ".py",
   "mimetype": "text/x-python",
   "name": "python",
   "nbconvert_exporter": "python",
   "pygments_lexer": "ipython3",
   "version": "3.6.1"
  }
 },
 "nbformat": 4,
 "nbformat_minor": 2
}
