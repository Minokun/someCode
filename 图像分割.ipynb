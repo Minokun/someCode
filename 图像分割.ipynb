{
 "cells": [
  {
   "cell_type": "code",
   "execution_count": 1,
   "metadata": {},
   "outputs": [],
   "source": [
    "from aip import AipBodyAnalysis\n",
    "import base64\n",
    "\n",
    "\"\"\" 你的 APPID AK SK \"\"\"\n",
    "APP_ID = '17265090'\n",
    "API_KEY = 'QAOTCUX6U4x7u3CdRTxXH8HH'\n",
    "SECRET_KEY = '5X3xLM9YOCbLKEptq2vezaBnLHS9moL0'\n",
    "\n",
    "client = AipBodyAnalysis(APP_ID, API_KEY, SECRET_KEY)"
   ]
  },
  {
   "cell_type": "code",
   "execution_count": 2,
   "metadata": {},
   "outputs": [],
   "source": [
    "\"\"\" 读取图片 \"\"\"\n",
    "def get_file_content(filePath):\n",
    "    with open(filePath, 'rb') as fp:\n",
    "        return fp.read()"
   ]
  },
  {
   "cell_type": "code",
   "execution_count": 9,
   "metadata": {},
   "outputs": [],
   "source": [
    "image = get_file_content('a.jpg')\n",
    "\"\"\" 调用人像分割 \"\"\"\n",
    "client.bodySeg(image);\n",
    "\n",
    "\"\"\" 如果有可选参数 \"\"\"\n",
    "options = {}\n",
    "options[\"type\"] = \"foreground\"\n",
    "\n",
    "\"\"\" 带参数调用人像分割 \"\"\"\n",
    "res = client.bodySeg(image, options)\n",
    "\n",
    "with open('b.png', 'wb') as fp:\n",
    "    fp.write(base64.b64decode(res['foreground']))"
   ]
  },
  {
   "cell_type": "code",
   "execution_count": 11,
   "metadata": {},
   "outputs": [],
   "source": [
    "from removebg import RemoveBg\n",
    "rmbg = RemoveBg(\"JmFvKuFupMesjqRwdrUqRS7d\", \"error.log\") # 引号内是你获取的API\n",
    "rmbg.remove_background_from_img_file(\"a.jpg\") #图片地址"
   ]
  }
 ],
 "metadata": {
  "kernelspec": {
   "display_name": "Python 3",
   "language": "python",
   "name": "python3"
  },
  "language_info": {
   "codemirror_mode": {
    "name": "ipython",
    "version": 3
   },
   "file_extension": ".py",
   "mimetype": "text/x-python",
   "name": "python",
   "nbconvert_exporter": "python",
   "pygments_lexer": "ipython3",
   "version": "3.6.5"
  }
 },
 "nbformat": 4,
 "nbformat_minor": 2
}
