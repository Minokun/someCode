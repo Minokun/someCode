{
 "cells": [
  {
   "cell_type": "code",
   "execution_count": 30,
   "metadata": {},
   "outputs": [],
   "source": [
    "import matplotlib as mpl\n",
    "import matplotlib.pyplot as plt\n",
    "%matplotlib inline\n",
    "import numpy as np\n",
    "import pandas as pd\n",
    "import sklearn\n",
    "import tensorflow as tf\n",
    "from tensorflow import keras\n",
    "from sklearn.model_selection import train_test_split\n",
    "import os\n",
    "import pickle as pk\n",
    "from sklearn.preprocessing import StandardScaler"
   ]
  },
  {
   "cell_type": "code",
   "execution_count": 25,
   "metadata": {},
   "outputs": [],
   "source": [
    "# 获取训练数据\n",
    "with open('./x_train_all.pk', 'rb') as fp: user_behavior_data = np.array(pk.load(fp))\n",
    "with open('./y_train_all_31.pk', 'rb') as fp: user_behavior_target = np.array(pk.load(fp))\n",
    "# 分割数据\n",
    "x_train_all, x_test, y_train_all, y_test = train_test_split(\n",
    "    user_behavior_data, user_behavior_target, random_state = 7\n",
    ")\n",
    "x_train, x_valid, y_train, y_valid = train_test_split(\n",
    "    x_train_all, y_train_all, random_state = 11\n",
    ")"
   ]
  },
  {
   "cell_type": "code",
   "execution_count": 26,
   "metadata": {},
   "outputs": [],
   "source": [
    "# 归一化\n",
    "scaler = StandardScaler()\n",
    "x_train_scaled = scaler.fit_transform(x_train)\n",
    "x_valid_scaled = scaler.transform(x_valid)\n",
    "x_test_scaled =  scaler.transform(x_test)"
   ]
  },
  {
   "cell_type": "code",
   "execution_count": 33,
   "metadata": {},
   "outputs": [],
   "source": [
    "# 三层网络\n",
    "model = keras.models.Sequential([\n",
    "    keras.layers.Dense(100, activation='relu', input_shape=x_train_scaled.shape[1:]),\n",
    "    keras.layers.Dense(200, activation='relu'),\n",
    "    keras.layers.Dense(2, activation='softmax')\n",
    "])\n",
    "model.compile(loss='sparse_categorical_crossentropy',\n",
    "              optimizer = 'sgd',\n",
    "              metrics = ['accuracy']\n",
    "             )"
   ]
  },
  {
   "cell_type": "code",
   "execution_count": 23,
   "metadata": {},
   "outputs": [],
   "source": [
    "# 深度神经网络建立\n",
    "model = keras.models.Sequential()\n",
    "\n",
    "model.add(keras.layers.Dense(300, input_shape=x_train_scaled.shape[1:]))\n",
    "for i in range(10):\n",
    "    model.add(keras.layers.Dense(100, activation='relu'))\n",
    "#     if i == 5:\n",
    "#         model.add(keras.layers.AlphaDropout(rate=0.5))  \n",
    "model.add(keras.layers.Dense(2, activation='softmax'))\n",
    "    \n",
    "model.compile(loss='sparse_categorical_crossentropy',\n",
    "              optimizer = 'sgd',\n",
    "              metrics = ['accuracy']\n",
    "             )"
   ]
  },
  {
   "cell_type": "code",
   "execution_count": 34,
   "metadata": {},
   "outputs": [
    {
     "name": "stdout",
     "output_type": "stream",
     "text": [
      "Train on 88220 samples, validate on 29407 samples\n",
      "Epoch 1/100\n",
      "88220/88220 [==============================] - 4s 43us/sample - loss: 0.5161 - accuracy: 0.7469 - val_loss: 0.4709 - val_accuracy: 0.7821\n",
      "Epoch 2/100\n",
      "88220/88220 [==============================] - 3s 35us/sample - loss: 0.4548 - accuracy: 0.7903 - val_loss: 0.4390 - val_accuracy: 0.7982\n",
      "Epoch 3/100\n",
      "88220/88220 [==============================] - 3s 34us/sample - loss: 0.4322 - accuracy: 0.8005 - val_loss: 0.4266 - val_accuracy: 0.8017\n",
      "Epoch 4/100\n",
      "88220/88220 [==============================] - 3s 34us/sample - loss: 0.4206 - accuracy: 0.8038 - val_loss: 0.4161 - val_accuracy: 0.8057\n",
      "Epoch 5/100\n",
      "88220/88220 [==============================] - 3s 34us/sample - loss: 0.4129 - accuracy: 0.8056 - val_loss: 0.4089 - val_accuracy: 0.8089\n",
      "Epoch 6/100\n",
      "88220/88220 [==============================] - 3s 34us/sample - loss: 0.4065 - accuracy: 0.8091 - val_loss: 0.4063 - val_accuracy: 0.8085\n",
      "Epoch 7/100\n",
      "88220/88220 [==============================] - 3s 34us/sample - loss: 0.4021 - accuracy: 0.8102 - val_loss: 0.4024 - val_accuracy: 0.8096\n",
      "Epoch 8/100\n",
      "88220/88220 [==============================] - 3s 34us/sample - loss: 0.3985 - accuracy: 0.8132 - val_loss: 0.3997 - val_accuracy: 0.8142\n",
      "Epoch 9/100\n",
      "88220/88220 [==============================] - 3s 35us/sample - loss: 0.3955 - accuracy: 0.8133 - val_loss: 0.4001 - val_accuracy: 0.8097\n",
      "Epoch 10/100\n",
      "88220/88220 [==============================] - 3s 35us/sample - loss: 0.3931 - accuracy: 0.8149 - val_loss: 0.3923 - val_accuracy: 0.8158\n",
      "Epoch 11/100\n",
      "88220/88220 [==============================] - 3s 35us/sample - loss: 0.3908 - accuracy: 0.8163 - val_loss: 0.3925 - val_accuracy: 0.8159\n",
      "Epoch 12/100\n",
      "88220/88220 [==============================] - 3s 34us/sample - loss: 0.3888 - accuracy: 0.8174 - val_loss: 0.3944 - val_accuracy: 0.8126\n",
      "Epoch 13/100\n",
      "88220/88220 [==============================] - 3s 34us/sample - loss: 0.3875 - accuracy: 0.8178 - val_loss: 0.3883 - val_accuracy: 0.8171\n",
      "Epoch 14/100\n",
      "88220/88220 [==============================] - 3s 34us/sample - loss: 0.3862 - accuracy: 0.8184 - val_loss: 0.3880 - val_accuracy: 0.8178\n",
      "Epoch 15/100\n",
      "88220/88220 [==============================] - 3s 34us/sample - loss: 0.3844 - accuracy: 0.8193 - val_loss: 0.3883 - val_accuracy: 0.8190\n",
      "Epoch 16/100\n",
      "88220/88220 [==============================] - 3s 34us/sample - loss: 0.3834 - accuracy: 0.8196 - val_loss: 0.3835 - val_accuracy: 0.8202\n",
      "Epoch 17/100\n",
      "88220/88220 [==============================] - 3s 34us/sample - loss: 0.3823 - accuracy: 0.8200 - val_loss: 0.3864 - val_accuracy: 0.8182\n",
      "Epoch 18/100\n",
      "88220/88220 [==============================] - 3s 34us/sample - loss: 0.3814 - accuracy: 0.8196 - val_loss: 0.3845 - val_accuracy: 0.8192\n",
      "Epoch 19/100\n",
      "88220/88220 [==============================] - 3s 35us/sample - loss: 0.3805 - accuracy: 0.8206 - val_loss: 0.3846 - val_accuracy: 0.8181\n",
      "Epoch 20/100\n",
      "88220/88220 [==============================] - 3s 35us/sample - loss: 0.3794 - accuracy: 0.8213 - val_loss: 0.3817 - val_accuracy: 0.8208\n",
      "Epoch 21/100\n",
      "88220/88220 [==============================] - 3s 34us/sample - loss: 0.3790 - accuracy: 0.8220 - val_loss: 0.3816 - val_accuracy: 0.8191\n",
      "Epoch 22/100\n",
      "88220/88220 [==============================] - 3s 34us/sample - loss: 0.3785 - accuracy: 0.8216 - val_loss: 0.3818 - val_accuracy: 0.8203\n",
      "Epoch 23/100\n",
      "88220/88220 [==============================] - 3s 34us/sample - loss: 0.3777 - accuracy: 0.8217 - val_loss: 0.3816 - val_accuracy: 0.8199\n",
      "Epoch 24/100\n",
      "88220/88220 [==============================] - 3s 34us/sample - loss: 0.3769 - accuracy: 0.8220 - val_loss: 0.3823 - val_accuracy: 0.8181\n",
      "Epoch 25/100\n",
      "88220/88220 [==============================] - 3s 34us/sample - loss: 0.3763 - accuracy: 0.8229 - val_loss: 0.3790 - val_accuracy: 0.8204\n",
      "Epoch 26/100\n",
      "88220/88220 [==============================] - 3s 34us/sample - loss: 0.3761 - accuracy: 0.8222 - val_loss: 0.3796 - val_accuracy: 0.8212\n",
      "Epoch 27/100\n",
      "88220/88220 [==============================] - 3s 34us/sample - loss: 0.3753 - accuracy: 0.8224 - val_loss: 0.3806 - val_accuracy: 0.8200\n",
      "Epoch 28/100\n",
      "88220/88220 [==============================] - 3s 35us/sample - loss: 0.3747 - accuracy: 0.8225 - val_loss: 0.3795 - val_accuracy: 0.8203\n",
      "Epoch 29/100\n",
      "88220/88220 [==============================] - 3s 35us/sample - loss: 0.3745 - accuracy: 0.8233 - val_loss: 0.3799 - val_accuracy: 0.8194\n",
      "Epoch 30/100\n",
      "88220/88220 [==============================] - 3s 34us/sample - loss: 0.3744 - accuracy: 0.8232 - val_loss: 0.3803 - val_accuracy: 0.8184\n"
     ]
    }
   ],
   "source": [
    "# 训练数据\n",
    "logdir = '.\\callbacks'\n",
    "if not os.path.exists(logdir):\n",
    "    os.mkdir(logdir)\n",
    "output_model_file = os.path.join(logdir, 'loss_user_mnist.h5')\n",
    "\n",
    "callbacks = [\n",
    "    keras.callbacks.TensorBoard(logdir),\n",
    "    keras.callbacks.ModelCheckpoint(output_model_file, save_best_only = True),\n",
    "    keras.callbacks.EarlyStopping(patience=5, min_delta=1e-3),\n",
    "]\n",
    "history = model.fit(x_train_scaled, y_train, epochs=100, \n",
    "                    validation_data=(x_valid_scaled, y_valid),\n",
    "                   callbacks=callbacks)"
   ]
  },
  {
   "cell_type": "code",
   "execution_count": 29,
   "metadata": {
    "scrolled": false
   },
   "outputs": [
    {
     "data": {
      "image/png": "[encoded data removed]",
      "text/plain": [
       "<Figure size 1152x576 with 1 Axes>"
      ]
     },
     "metadata": {
      "needs_background": "light"
     },
     "output_type": "display_data"
    }
   ],
   "source": [
    "def plot_learning_curves(history):\n",
    "    pd.DataFrame(history.history).plot(figsize=(16, 8))\n",
    "    plt.grid(True)\n",
    "    plt.gca().set_ylim(0, 1)\n",
    "    plt.show()\n",
    "plot_learning_curves(history)"
   ]
  }
 ],
 "metadata": {
  "kernelspec": {
   "display_name": "Python 3",
   "language": "python",
   "name": "python3"
  },
  "language_info": {
   "codemirror_mode": {
    "name": "ipython",
    "version": 3
   },
   "file_extension": ".py",
   "mimetype": "text/x-python",
   "name": "python",
   "nbconvert_exporter": "python",
   "pygments_lexer": "ipython3",
   "version": "3.6.5"
  }
 },
 "nbformat": 4,
 "nbformat_minor": 2
}
