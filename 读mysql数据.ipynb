{
 "cells": [
  {
   "cell_type": "code",
   "execution_count": 1,
   "metadata": {},
   "outputs": [],
   "source": [
    "import pandas as pd \n",
    "from sqlalchemy import create_engine\n",
    "import pymysql\n",
    "mysql_setting = {\n",
    "    'host' : \"192.168.66.30\",\n",
    "    'dbname': \"quick_bi\",\n",
    "    'user': \"root\",\n",
    "    'password': \"poHx*aYwl%eN!R9&\"\n",
    "}\n",
    "engine = create_engine('mysql+pymysql://{user}:{password}@{host}:3306/{dbname}'.format(**mysql_setting), echo=False)"
   ]
  },
  {
   "cell_type": "code",
   "execution_count": 12,
   "metadata": {},
   "outputs": [],
   "source": [
    "pay_order = 'select '\n",
    "pd.read_sql()"
   ]
  }
 ],
 "metadata": {
  "kernelspec": {
   "display_name": "Python 3",
   "language": "python",
   "name": "python3"
  },
  "language_info": {
   "codemirror_mode": {
    "name": "ipython",
    "version": 3
   },
   "file_extension": ".py",
   "mimetype": "text/x-python",
   "name": "python",
   "nbconvert_exporter": "python",
   "pygments_lexer": "ipython3",
   "version": "3.6.5"
  }
 },
 "nbformat": 4,
 "nbformat_minor": 2
}
