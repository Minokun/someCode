{
 "cells": [
  {
   "cell_type": "code",
   "execution_count": 1,
   "metadata": {
    "collapsed": true
   },
   "outputs": [],
   "source": [
    "import pandas as pd\n",
    "import numpy as np\n",
    "import matplotlib.pyplot as plt\n",
    "%matplotlib inline"
   ]
  },
  {
   "cell_type": "code",
   "execution_count": 16,
   "metadata": {},
   "outputs": [
    {
     "data": {
      "text/html": [
       "<div>\n",
       "<style scoped>\n",
       "    .dataframe tbody tr th:only-of-type {\n",
       "        vertical-align: middle;\n",
       "    }\n",
       "\n",
       "    .dataframe tbody tr th {\n",
       "        vertical-align: top;\n",
       "    }\n",
       "\n",
       "    .dataframe thead th {\n",
       "        text-align: right;\n",
       "    }\n",
       "</style>\n",
       "<table border=\"1\" class=\"dataframe\">\n",
       "  <thead>\n",
       "    <tr style=\"text-align: right;\">\n",
       "      <th></th>\n",
       "      <th>A1</th>\n",
       "      <th>A2</th>\n",
       "    </tr>\n",
       "  </thead>\n",
       "  <tbody>\n",
       "    <tr>\n",
       "      <th>0</th>\n",
       "      <td>1.5</td>\n",
       "      <td>1.7</td>\n",
       "    </tr>\n",
       "    <tr>\n",
       "      <th>1</th>\n",
       "      <td>2.0</td>\n",
       "      <td>1.9</td>\n",
       "    </tr>\n",
       "    <tr>\n",
       "      <th>2</th>\n",
       "      <td>1.6</td>\n",
       "      <td>1.8</td>\n",
       "    </tr>\n",
       "    <tr>\n",
       "      <th>3</th>\n",
       "      <td>1.2</td>\n",
       "      <td>1.5</td>\n",
       "    </tr>\n",
       "    <tr>\n",
       "      <th>4</th>\n",
       "      <td>1.5</td>\n",
       "      <td>1.0</td>\n",
       "    </tr>\n",
       "  </tbody>\n",
       "</table>\n",
       "</div>"
      ],
      "text/plain": [
       "    A1   A2\n",
       "0  1.5  1.7\n",
       "1  2.0  1.9\n",
       "2  1.6  1.8\n",
       "3  1.2  1.5\n",
       "4  1.5  1.0"
      ]
     },
     "execution_count": 16,
     "metadata": {},
     "output_type": "execute_result"
    }
   ],
   "source": [
    "df = pd.DataFrame([pd.Series(np.array([1.5, 2, 1.6, 1.2, 1.5])), np.array([1.7, 1.9, 1.8, 1.5, 1])]).T.rename(columns={0:'A1', 1:'A2'})\n",
    "df"
   ]
  },
  {
   "cell_type": "code",
   "execution_count": 43,
   "metadata": {},
   "outputs": [
    {
     "data": {
      "text/plain": [
       "[[0.99612573154774753,\n",
       "  0.14142135623730964,\n",
       "  0.36055512754639896,\n",
       "  0.69999999999999996],\n",
       " [0.99644117292570022, 0.89442719099991586, 1.0295630140987],\n",
       " [0.99865342473843233, 0.80622577482985502],\n",
       " [0.95292578001326189]]"
      ]
     },
     "execution_count": 43,
     "metadata": {},
     "output_type": "execute_result"
    }
   ],
   "source": [
    "# 欧几里得距离递归函数\n",
    "def ojAlg(df, i, n):\n",
    "    res = []\n",
    "    if n == len(df.index):\n",
    "        return res\n",
    "    else:\n",
    "        sum_pow = 0\n",
    "        for i_columns in df.columns:\n",
    "            sum_pow += (df.loc[i][i_columns] - df.loc[n][i_columns]) ** 2\n",
    "        res.append(np.sqrt(sum_pow))\n",
    "        n += 1\n",
    "        res = res + ojAlg(df, i, n)\n",
    "        return res\n",
    "    \n",
    "# 余弦相似度递归函数\n",
    "def simAlg(df, i, n):\n",
    "    res = []\n",
    "    if n == len(df.index):\n",
    "        return res\n",
    "    else:\n",
    "        sum_xy = sum_x = sum_y = 0\n",
    "        for i_columns in df.columns:\n",
    "            sum_xy += df.loc[i][i_columns] * df.loc[n][i_columns]\n",
    "            sum_x += df.loc[i][i_columns] ** 2\n",
    "            sum_y += df.loc[n][i_columns] ** 2\n",
    "        res_xy = sum_xy / (np.sqrt(sum_x) * np.sqrt(sum_y))\n",
    "        res.append(res_xy)\n",
    "        n += 1\n",
    "        res = res + caculate(df, i, n)\n",
    "        return res\n",
    "\n",
    "# 欧几里得距离算法实现\n",
    "def ojDistanse(df):\n",
    "    list_distance = []\n",
    "    for i in range(len(df.index) - 1):\n",
    "        res_list = simAlg(df, i, i + 1)\n",
    "        list_distance.append(res_list)\n",
    "    return list_distance\n",
    "\n",
    "df = pd.DataFrame([pd.Series(np.array([1.5, 2, 1.6, 1.2, 1.5])), np.array([1.7, 1.9, 1.8, 1.5, 1])]).T.rename(\n",
    "    columns={0: 'A1', 1: 'A2'})\n",
    "\n",
    "ojDistanse(df)"
   ]
  }
 ],
 "metadata": {
  "kernelspec": {
   "display_name": "Python 3",
   "language": "python",
   "name": "python3"
  },
  "language_info": {
   "codemirror_mode": {
    "name": "ipython",
    "version": 3
   },
   "file_extension": ".py",
   "mimetype": "text/x-python",
   "name": "python",
   "nbconvert_exporter": "python",
   "pygments_lexer": "ipython3",
   "version": "3.6.1"
  }
 },
 "nbformat": 4,
 "nbformat_minor": 2
}
