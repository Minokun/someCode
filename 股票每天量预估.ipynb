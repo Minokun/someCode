{
 "cells": [
  {
   "cell_type": "code",
   "execution_count": 1,
   "metadata": {},
   "outputs": [],
   "source": [
    "import tushare as ts\n",
    "import matplotlib.pyplot as plt\n",
    "from datetime import date, timedelta, datetime\n",
    "import pandas as pd\n",
    "plt.rcParams['font.sans-serif'] = ['KaiTi']\n",
    "plt.rcParams['axes.unicode_minus'] = False\n",
    "ts.set_token('5f74ec7e9d0e71e8b8174fc48550635013e084a53d63af4cac832ab3')\n",
    "pro = ts.pro_api()\n",
    "\n",
    "stock = '002547'\n",
    "start_date = '20190201'\n",
    "end_date = (date.today() - timedelta(days=1)).strftime('%Y%m%d')\n",
    "\n",
    "# 获取该股票的所有分时数据\n",
    "def getTickData(tick_date, stock):\n",
    "    df = ts.get_tick_data(stock, date=tick_date,src='tt')\n",
    "    df['day_date'] = tick_date\n",
    "    return df\n",
    "\n",
    "# 获取所有交易日期\n",
    "df_date = pro.trade_cal(exchange='', start_date=start_date, end_date=end_date)\n",
    "date_list = df_date[df_date['is_open'] == 1].cal_date.values"
   ]
  },
  {
   "cell_type": "code",
   "execution_count": 17,
   "metadata": {},
   "outputs": [
    {
     "name": "stdout",
     "output_type": "stream",
     "text": [
      "10/203\n",
      "20/203\n",
      "30/203\n",
      "40/203\n",
      "50/203\n",
      "60/203\n",
      "70/203\n",
      "80/203\n",
      "90/203\n",
      "100/203\n",
      "110/203\n",
      "120/203\n",
      "130/203\n",
      "140/203\n",
      "150/203\n",
      "160/203\n",
      "170/203\n",
      "180/203\n",
      "190/203\n",
      "200/203\n"
     ]
    }
   ],
   "source": [
    "# 获取所有日期的分时数据\n",
    "total_num = len(date_list)\n",
    "n = 1\n",
    "df_list = []\n",
    "for i in date_list:\n",
    "    if n % 10 == 0:\n",
    "        print(str(n) + '/' + str(total_num))\n",
    "    # 转化日期格式\n",
    "    stock_date = datetime.strptime(i, '%Y%m%d').strftime('%Y-%m-%d')\n",
    "    # 9:40 增量 9:50 增量 10:00 增量\n",
    "    df = getTickData(stock_date, stock)\n",
    "    df_list.append(df)\n",
    "    n += 1"
   ]
  },
  {
   "cell_type": "code",
   "execution_count": 18,
   "metadata": {},
   "outputs": [],
   "source": [
    "df_res = pd.read_csv('./stock_tick.csv')"
   ]
  },
  {
   "cell_type": "code",
   "execution_count": 18,
   "metadata": {},
   "outputs": [],
   "source": [
    "df_res = pd.concat(df_list, axis=0)\n",
    "df_res.to_csv('./stock_tick.csv', encoding='utf-8-sig')"
   ]
  },
  {
   "cell_type": "code",
   "execution_count": 30,
   "metadata": {},
   "outputs": [],
   "source": [
    "# 9点半之前增量\n",
    "df1 = df_res[df_res['time'] < '09:30:00'].groupby('day_date').agg({'volume': 'sum'}).rename(columns={'volume': 'bid'})\n",
    "# 9:30 - 9:40\n",
    "df2 = df_res[(df_res['time'] < '09:40:00') & (df_res['time'] >= '09:30:00')].groupby('day_date').agg({'volume': 'sum'}).rename(columns={'volume': 'm10'})\n",
    "# 9:40 - 9:50\n",
    "df3 = df_res[(df_res['time'] < '09:50:00') & (df_res['time'] >= '09:40:00')].groupby('day_date').agg({'volume': 'sum'}).rename(columns={'volume': 'm20'})\n",
    "# 9:50 - 10:00\n",
    "df4 = df_res[(df_res['time'] < '10:00:00')  & (df_res['time'] >= '09:50:00')].groupby('day_date').agg({'volume': 'sum'}).rename(columns={'volume': 'm30'})\n",
    "# 10点总量\n",
    "df5 = df_res[df_res['time'] < '10:00:00'].groupby('day_date').agg({'volume': 'sum'}).rename(columns={'volume': 't10'})"
   ]
  },
  {
   "cell_type": "code",
   "execution_count": 56,
   "metadata": {},
   "outputs": [],
   "source": [
    "# 昨天总量\n",
    "df6 = df_res.groupby('day_date').agg({'volume': 'sum'}).rename(columns={'volume': 'total'}).reset_index()\n",
    "# 昨天10点前的增量\n",
    "# 前填总量\n",
    "# 前天10点半前的增量"
   ]
  },
  {
   "cell_type": "code",
   "execution_count": 58,
   "metadata": {},
   "outputs": [
    {
     "data": {
      "text/plain": [
       "0     2019-01-31\n",
       "1     2019-02-10\n",
       "2     2019-02-11\n",
       "3     2019-02-12\n",
       "4     2019-02-13\n",
       "5     2019-02-14\n",
       "6     2019-02-17\n",
       "7     2019-02-18\n",
       "8     2019-02-19\n",
       "9     2019-02-20\n",
       "10    2019-02-21\n",
       "11    2019-02-24\n",
       "12    2019-02-25\n",
       "13    2019-02-26\n",
       "14    2019-02-27\n",
       "15    2019-02-28\n",
       "16    2019-03-03\n",
       "17    2019-03-04\n",
       "18    2019-03-05\n",
       "19    2019-03-06\n",
       "20    2019-03-07\n",
       "21    2019-03-10\n",
       "22    2019-03-11\n",
       "23    2019-03-12\n",
       "24    2019-03-13\n",
       "25    2019-03-14\n",
       "26    2019-03-17\n",
       "27    2019-03-18\n",
       "28    2019-03-19\n",
       "29    2019-03-20\n",
       "         ...    \n",
       "174   2019-10-24\n",
       "175   2019-10-27\n",
       "176   2019-10-28\n",
       "177   2019-10-29\n",
       "178   2019-10-30\n",
       "179   2019-10-31\n",
       "180   2019-11-03\n",
       "181   2019-11-04\n",
       "182   2019-11-05\n",
       "183   2019-11-06\n",
       "184   2019-11-07\n",
       "185   2019-11-10\n",
       "186   2019-11-11\n",
       "187   2019-11-12\n",
       "188   2019-11-13\n",
       "189   2019-11-14\n",
       "190   2019-11-17\n",
       "191   2019-11-18\n",
       "192   2019-11-19\n",
       "193   2019-11-20\n",
       "194   2019-11-21\n",
       "195   2019-11-24\n",
       "196   2019-11-25\n",
       "197   2019-11-26\n",
       "198   2019-11-27\n",
       "199   2019-11-28\n",
       "200   2019-12-01\n",
       "201   2019-12-02\n",
       "202   2019-12-03\n",
       "203   2019-12-04\n",
       "Name: day_date, Length: 204, dtype: datetime64[ns]"
      ]
     },
     "execution_count": 58,
     "metadata": {},
     "output_type": "execute_result"
    }
   ],
   "source": [
    "df6['day_date'].apply(lambda x: datetime.strptime(x, '%Y-%m-%d') - timedelta(days=1))"
   ]
  },
  {
   "cell_type": "code",
   "execution_count": null,
   "metadata": {},
   "outputs": [],
   "source": [
    "df1.join(df2).join(df3).join(df4).join(df5)"
   ]
  }
 ],
 "metadata": {
  "kernelspec": {
   "display_name": "Python 3",
   "language": "python",
   "name": "python3"
  },
  "language_info": {
   "codemirror_mode": {
    "name": "ipython",
    "version": 3
   },
   "file_extension": ".py",
   "mimetype": "text/x-python",
   "name": "python",
   "nbconvert_exporter": "python",
   "pygments_lexer": "ipython3",
   "version": "3.6.5"
  }
 },
 "nbformat": 4,
 "nbformat_minor": 2
}
