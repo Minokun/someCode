{
 "cells": [
  {
   "cell_type": "code",
   "execution_count": 14,
   "metadata": {},
   "outputs": [
    {
     "name": "stdout",
     "output_type": "stream",
     "text": [
      "[2, 3, 4, 5, 6, 9, 10, 11, 12, 13, 16, 17, 18, 19, 20, 23, 24, 25, 26, 27, 30, 31]\n"
     ]
    }
   ],
   "source": [
    "import pandas as pd\n",
    "import datetime\n",
    "import time\n",
    "\n",
    "# 实现功能：获取工作日全天未打卡日期、获取漏打卡日期、获取迟到日期\n",
    "class dataAnalyze():\n",
    "        \n",
    "    date_list = []\n",
    "    day_list = []\n",
    "    deal = []\n",
    "    \n",
    "    def __init__(self):       \n",
    "        data = pd.read_excel('/Users/monstar/Desktop/2017.xls', columns=['depatment','name','num','date','order','n','f','k'])\n",
    "        data = data[(data['姓名'] == '武晓坤')]\n",
    "\n",
    "        for i in data.index:\n",
    "            self.date_list.append(datetime.datetime.strptime(data['日期时间'][i],'%Y/%m/%d %H:%M:%S'))\n",
    "            \n",
    "        for j in self.date_list:\n",
    "            self.day_list.append(int(j.strftime('%d')))\n",
    "\n",
    "        #获取处理的月份\n",
    "        first_date = str(self.date_list[0].year) + str(self.date_list[0].month)\n",
    "        current_date = datetime.datetime.strptime(first_date, '%Y%m')\n",
    "        for i in range(31):\n",
    "            delta = datetime.timedelta(days=i)\n",
    "            incr_date = current_date + delta\n",
    "            if incr_date.month == self.date_list[0].month and int(incr_date.strftime('%w')) not in (0,6):\n",
    "                self.deal.append(incr_date.day)\n",
    "        \n",
    "if __name__ == '__main__':\n",
    "    datares = dataAnalyze()\n",
    "    print(datares.deal)"
   ]
  }
 ],
 "metadata": {
  "kernelspec": {
   "display_name": "Python 3",
   "language": "python",
   "name": "python3"
  },
  "language_info": {
   "codemirror_mode": {
    "name": "ipython",
    "version": 3
   },
   "file_extension": ".py",
   "mimetype": "text/x-python",
   "name": "python",
   "nbconvert_exporter": "python",
   "pygments_lexer": "ipython3",
   "version": "3.6.1"
  }
 },
 "nbformat": 4,
 "nbformat_minor": 2
}
