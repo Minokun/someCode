{
 "cells": [
  {
   "cell_type": "code",
   "execution_count": 1,
   "metadata": {
    "collapsed": true
   },
   "outputs": [],
   "source": [
    "import numpy as np \n",
    "import pandas as pd\n",
    "import matplotlib.pyplot as plt \n",
    "import seaborn as sbn"
   ]
  },
  {
   "cell_type": "code",
   "execution_count": 12,
   "metadata": {},
   "outputs": [],
   "source": [
    "#定义神经元网络\n",
    "class Network():\n",
    "    def __init__(self, sizes):\n",
    "        #层数 (包括输入层)\n",
    "        self.num_layers = len(sizes)\n",
    "        #每层个数\n",
    "        self.sizes = sizes\n",
    "        #每层偏置 (随机标准正态分布, 每层的偏置=从隐藏层开始每层神经元个数)\n",
    "        #每个神经元只有一个偏置，所以是N x 1的一个矩阵\n",
    "        self.biases = [np.random.randn(y, 1) for y in sizes[1:]]\n",
    "        #每层权重\n",
    "        #每个输入都有一个权重 所以是一个N x M的一个矩阵\n",
    "        #N行数为下一层神经元个数，M是输入参数个数\n",
    "        self.weights = [np.random.randn(y, x) \n",
    "                        for x, y in zip(sizes[:-1], sizes[1:])]\n",
    "    \n",
    "    #前向传播\n",
    "    def forward(self, taining_data, epochs):\n",
    "        for i in range(epochs):\n",
    "            print('当前训练轮数：{0}/{1}'.format(i, len(epochs)))\n",
    "            for x, y in taining_data:\n",
    "                self.update(x, y)\n",
    "    \n",
    "    # 利用梯度下降算法更新权重和偏置\n",
    "    def GDUpdate(self, x, y):\n",
    "        # 计算前向传播后的结果(此处包含线性和非线性两种算法计算)\n",
    "        # 每一层的激励值a = sigmoid(z) z = wx + y\n",
    "        # 每一层都得计算，而第一层的激励值等于x\n",
    "        # 保存每一层激励值和z\n",
    "        activations = [x]\n",
    "        zs = []\n",
    "        for b, w in zip(self.biases, self.weights):\n",
    "            # 计算每层的z\n",
    "            z = np.dot(w, activation) + b\n",
    "            zs.append(z)\n",
    "            # 计算每层的a\n",
    "            activation = sigmoid(z)\n",
    "            activations.append(activation)\n",
    "        \n",
    "        # 更新权重和偏置\n",
    "\n",
    "# 激活函数\n",
    "def sigmoid(z):\n",
    "    return 1.0 / (1.0 + np.exp(-z))\n",
    "\n",
    "# sigmoid函数的导数\n",
    "def sigmoid_prime(z):\n",
    "    return sigmoid(z) * (1 - sigmoid)\n",
    "\n",
    "# 创建网络\n",
    "net = Network([3, 2, 10])\n",
    "res = '层数：{0},\\r\\n每层个数:{1},\\r\\n每层偏置:{2},\\r\\n权重:{3}'.format(\n",
    "    net.num_layers,\n",
    "    net.sizes,\n",
    "    net.biases,\n",
    "    net.weights\n",
    ")"
   ]
  }
 ],
 "metadata": {
  "kernelspec": {
   "display_name": "Python 3",
   "language": "python",
   "name": "python3"
  },
  "language_info": {
   "codemirror_mode": {
    "name": "ipython",
    "version": 3
   },
   "file_extension": ".py",
   "mimetype": "text/x-python",
   "name": "python",
   "nbconvert_exporter": "python",
   "pygments_lexer": "ipython3",
   "version": "3.6.1"
  }
 },
 "nbformat": 4,
 "nbformat_minor": 2
}
