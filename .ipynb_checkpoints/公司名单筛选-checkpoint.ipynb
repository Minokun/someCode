{
 "cells": [
  {
   "cell_type": "code",
   "execution_count": null,
   "metadata": {
    "collapsed": true
   },
   "outputs": [],
   "source": [
    "from sqlalchemy import create_engine\n",
    "import pandas as pd \n",
    "import numpy as np\n",
    "mysql_setting = {\n",
    "    'host' : \"localhost\",\n",
    "    'dbname': \"spider\",\n",
    "    'user': \"root\",\n",
    "    'password': \"\"\n",
    "}\n",
    "\n",
    "def getDatabaseConn():\n",
    "    engine = create_engine('mysql://{user}:{password}@{host}:3306/{dbname}'.format(**mysql_setting), echo=False)\n",
    "    conn = engine.connect()\n",
    "    return conn\n",
    "conn = getDatabaseConn()\n",
    "\n",
    "sql_lg_company = '''\n",
    "    select full_name, short_name, size, industry, finance_stage from lagou_company  where company_id in (SELECT company_id  FROM spider.lagou_recruit_day where city = '上海' group by company_id, city)\n",
    "'''\n",
    "lg_company_df = pd.read_sql(sql_lg_company, conn)\n",
    "\n",
    "def getCompanyFilter(line):\n",
    "    try:\n",
    "        import re\n",
    "        p = re.compile(r'([\\d]+).*')\n",
    "        return pd.Series([int(p.findall(line)[0])])\n",
    "    except Exception as e:\n",
    "        return pd.Series([0])\n",
    "lg_company_df_deal = pd.concat([lg_company_df, lg_company_df['size'].apply(getCompanyFilter)], axis=1).rename(columns={0:'low_size'})\n",
    "lg_company_df_deal[lg_company_df_deal.low_size >= 500].sort_values('low_size').to_excel('/Users/monstar/Desktop/lagou_company.xlsx', index=False, index_label=False)\n",
    "sql_zl_company = '''\n",
    "    select full_name, size, company_nature, website, industry, address, company_url from zhilian_company where company_md5 in (SELECT distinct(company_md5) FROM spider.zhilian_position where city = '上海')\n",
    "'''\n",
    "zl_company_df = pd.read_sql(sql_zl_company, conn)\n",
    "zl_company_df = pd.concat([zl_company_df, zl_company_df['size'].apply(getCompanyFilter)], axis=1).rename(columns={0:'low_size'})\n",
    "zl_company_df[zl_company_df.low_size >= 500].sort_values('low_size').to_excel('/Users/monstar/Desktop/zhilian_company.xlsx', index=False, index_label=False)"
   ]
  }
 ],
 "metadata": {
  "kernelspec": {
   "display_name": "Python 3",
   "language": "python",
   "name": "python3"
  },
  "language_info": {
   "codemirror_mode": {
    "name": "ipython",
    "version": 3
   },
   "file_extension": ".py",
   "mimetype": "text/x-python",
   "name": "python",
   "nbconvert_exporter": "python",
   "pygments_lexer": "ipython3",
   "version": "3.6.1"
  }
 },
 "nbformat": 4,
 "nbformat_minor": 2
}
