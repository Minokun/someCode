{
 "cells": [
  {
   "cell_type": "code",
   "execution_count": 3,
   "metadata": {},
   "outputs": [
    {
     "name": "stderr",
     "output_type": "stream",
     "text": [
      "/Users/monstar/Envs/py3env/lib/python3.6/site-packages/sqlalchemy/dialects/mysql/base.py:1569: Warning: (1287, \"'@@tx_isolation' is deprecated and will be removed in a future release. Please use '@@transaction_isolation' instead\")\n",
      "  cursor.execute('SELECT @@tx_isolation')\n"
     ]
    }
   ],
   "source": [
    "from sqlalchemy import create_engine\n",
    "import pandas as pd \n",
    "import numpy as np\n",
    "mysql_setting = {\n",
    "    'host' : \"10.10.10.4\",\n",
    "    'dbname': \"spider\",\n",
    "    'user': \"root\",\n",
    "    'password': \"qwerasdf\"\n",
    "}\n",
    "\n",
    "def getDatabaseConn():\n",
    "    engine = create_engine('mysql://{user}:{password}@{host}:3306/{dbname}'.format(**mysql_setting), echo=False)\n",
    "    conn = engine.connect()\n",
    "    return conn\n",
    "conn = getDatabaseConn()"
   ]
  },
  {
   "cell_type": "code",
   "execution_count": 33,
   "metadata": {
    "collapsed": true
   },
   "outputs": [],
   "source": [
    "def salarySplit(line):\n",
    "    import re\n",
    "    res = re.match(r'([\\d]+)K-([\\d]+)K', line)\n",
    "    if not res:\n",
    "        res = re.match(r'([\\d]+)k-([\\d]+)k', line)\n",
    "    if res:\n",
    "        salary_low = res[1]\n",
    "        salary_high = res[2]\n",
    "        salary_mean = (int(salary_low) + int(salary_high)) / 2\n",
    "    else:\n",
    "        res = re.match(r'([\\d]+).*', line)\n",
    "        salary_low = res[1]\n",
    "        salary_high = res[1]\n",
    "        salary_mean = res[1]\n",
    "    return pd.Series([int(salary_low) * 1000, int(salary_high) * 1000])"
   ]
  },
  {
   "cell_type": "code",
   "execution_count": 16,
   "metadata": {},
   "outputs": [],
   "source": [
    "zl_res = pd.read_sql(\"SELECT position_name, salary_low, salary_high, work_year, education, recruit_num, position_type FROM spider.zhilian_position where city = '成都'\", conn)\n",
    "sql = \"\"\"\n",
    "    select publish_time, position_name, position_labels, salary, work_year, education, second_type, city, department\n",
    "    from lagou_recruit_day where city = '成都'\n",
    "\"\"\"\n",
    "lg_res = pd.read_sql(sql, conn)"
   ]
  },
  {
   "cell_type": "code",
   "execution_count": 35,
   "metadata": {},
   "outputs": [],
   "source": [
    "salary_df = lg_res['salary'].apply(salarySplit).rename(columns={0:'salary_low', 1:'salary_high'})\n",
    "lg_res_deal = pd.concat([lg_res, salary_df] ,axis=1)\n",
    "res = pd.concat([lg_res_deal[['position_name', 'work_year', 'education', 'salary_low', 'salary_high']], zl_res[['position_name', 'work_year', 'education', 'salary_low', 'salary_high']]])"
   ]
  },
  {
   "cell_type": "code",
   "execution_count": 42,
   "metadata": {},
   "outputs": [],
   "source": [
    "res[(res.position_name.str.contains('u3d')) | (res.position_name.str.contains('unity'))].to_excel('/Users/monstar/Desktop/unity3D职位情况.xlsx')"
   ]
  },
  {
   "cell_type": "code",
   "execution_count": 47,
   "metadata": {},
   "outputs": [
    {
     "data": {
      "text/html": [
       "<div>\n",
       "<style scoped>\n",
       "    .dataframe tbody tr th:only-of-type {\n",
       "        vertical-align: middle;\n",
       "    }\n",
       "\n",
       "    .dataframe tbody tr th {\n",
       "        vertical-align: top;\n",
       "    }\n",
       "\n",
       "    .dataframe thead tr th {\n",
       "        text-align: left;\n",
       "    }\n",
       "\n",
       "    .dataframe thead tr:last-of-type th {\n",
       "        text-align: right;\n",
       "    }\n",
       "</style>\n",
       "<table border=\"1\" class=\"dataframe\">\n",
       "  <thead>\n",
       "    <tr>\n",
       "      <th></th>\n",
       "      <th colspan=\"3\" halign=\"left\">薪资上线</th>\n",
       "      <th colspan=\"3\" halign=\"left\">薪资下限</th>\n",
       "    </tr>\n",
       "    <tr>\n",
       "      <th>education</th>\n",
       "      <th>不限</th>\n",
       "      <th>大专</th>\n",
       "      <th>本科</th>\n",
       "      <th>不限</th>\n",
       "      <th>大专</th>\n",
       "      <th>本科</th>\n",
       "    </tr>\n",
       "    <tr>\n",
       "      <th>work_year</th>\n",
       "      <th></th>\n",
       "      <th></th>\n",
       "      <th></th>\n",
       "      <th></th>\n",
       "      <th></th>\n",
       "      <th></th>\n",
       "    </tr>\n",
       "  </thead>\n",
       "  <tbody>\n",
       "    <tr>\n",
       "      <th>1-3年</th>\n",
       "      <td>9375</td>\n",
       "      <td>12285.714286</td>\n",
       "      <td>8000</td>\n",
       "      <td>6375.62</td>\n",
       "      <td>7786.142857</td>\n",
       "      <td>6000</td>\n",
       "    </tr>\n",
       "    <tr>\n",
       "      <th>1年以下</th>\n",
       "      <td>--</td>\n",
       "      <td>8666.666667</td>\n",
       "      <td>--</td>\n",
       "      <td>--</td>\n",
       "      <td>4667.000000</td>\n",
       "      <td>--</td>\n",
       "    </tr>\n",
       "    <tr>\n",
       "      <th>3-5年</th>\n",
       "      <td>20333.3</td>\n",
       "      <td>17400.000000</td>\n",
       "      <td>23000</td>\n",
       "      <td>14000</td>\n",
       "      <td>11600.400000</td>\n",
       "      <td>14000</td>\n",
       "    </tr>\n",
       "    <tr>\n",
       "      <th>不限</th>\n",
       "      <td>15800</td>\n",
       "      <td>4250.000000</td>\n",
       "      <td>8000</td>\n",
       "      <td>9200.4</td>\n",
       "      <td>2500.750000</td>\n",
       "      <td>4667</td>\n",
       "    </tr>\n",
       "  </tbody>\n",
       "</table>\n",
       "</div>"
      ],
      "text/plain": [
       "              薪资上线                          薪资下限                     \n",
       "education       不限            大专     本科       不限            大专     本科\n",
       "work_year                                                            \n",
       "1-3年          9375  12285.714286   8000  6375.62   7786.142857   6000\n",
       "1年以下            --   8666.666667     --       --   4667.000000     --\n",
       "3-5年       20333.3  17400.000000  23000    14000  11600.400000  14000\n",
       "不限           15800   4250.000000   8000   9200.4   2500.750000   4667"
      ]
     },
     "execution_count": 47,
     "metadata": {},
     "output_type": "execute_result"
    }
   ],
   "source": [
    "res[(res.position_name.str.contains('u3d')) | (res.position_name.str.contains('unity'))].pivot_table(index='work_year',columns=['education']).fillna('--').rename(columns={'salary_high':'薪资上线', 'salary_low': '薪资下限'})"
   ]
  }
 ],
 "metadata": {
  "kernelspec": {
   "display_name": "Python 3",
   "language": "python",
   "name": "python3"
  },
  "language_info": {
   "codemirror_mode": {
    "name": "ipython",
    "version": 3
   },
   "file_extension": ".py",
   "mimetype": "text/x-python",
   "name": "python",
   "nbconvert_exporter": "python",
   "pygments_lexer": "ipython3",
   "version": "3.6.5"
  }
 },
 "nbformat": 4,
 "nbformat_minor": 2
}
