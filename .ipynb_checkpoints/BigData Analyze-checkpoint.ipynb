{
 "cells": [
  {
   "cell_type": "code",
   "execution_count": 13,
   "metadata": {},
   "outputs": [
    {
     "name": "stdout",
     "output_type": "stream",
     "text": [
      "<sqlalchemy.engine.result.ResultProxy object at 0x10935cef0>\n"
     ]
    }
   ],
   "source": [
    "from sqlalchemy import create_engine\n",
    "\n",
    "mysql_setting = {\n",
    "    'host' : \"localhost\",\n",
    "    'dbname': \"spider\",\n",
    "    'user': \"root\",\n",
    "    'password': \"\"\n",
    "}\n",
    "\n",
    "def database_connect(sql_str):\n",
    "    engine = create_engine('mysql://{user}:{password}@{host}:3306/{dbname}'.format(**mysql_setting), echo=False)\n",
    "    conn = engine.connect()\n",
    "    res = conn.execute(sql_str)\n",
    "    res_arr = res.fetchall()\n",
    "    conn.close()\n",
    "    res_deal = []\n",
    "    for item in res_arr:\n",
    "        res_deal.append(item[0])\n",
    "    return res_deal\n",
    "\n",
    "sql_str = '''\n",
    "    select active_time,count(*) num \n",
    "        from lagou_hr \n",
    "        where active_time <> 'NULL'and active_time <> '暂无' \n",
    "        group by active_time \n",
    "        order by num desc\n",
    "'''\n",
    "res = database_connect(sql_str)\n",
    "print(res)"
   ]
  }
 ],
 "metadata": {
  "kernelspec": {
   "display_name": "Python 3",
   "language": "python",
   "name": "python3"
  },
  "language_info": {
   "codemirror_mode": {
    "name": "ipython",
    "version": 3
   },
   "file_extension": ".py",
   "mimetype": "text/x-python",
   "name": "python",
   "nbconvert_exporter": "python",
   "pygments_lexer": "ipython3",
   "version": "3.6.1"
  }
 },
 "nbformat": 4,
 "nbformat_minor": 2
}
